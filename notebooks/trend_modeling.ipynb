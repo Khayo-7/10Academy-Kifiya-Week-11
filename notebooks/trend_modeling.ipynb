{
 "cells": [
  {
   "cell_type": "code",
   "execution_count": 4,
   "metadata": {},
   "outputs": [
    {
     "name": "stdout",
     "output_type": "stream",
     "text": [
      "The autoreload extension is already loaded. To reload it, use:\n",
      "  %reload_ext autoreload\n"
     ]
    }
   ],
   "source": [
    "%load_ext autoreload\n",
    "%autoreload 2"
   ]
  },
  {
   "cell_type": "code",
   "execution_count": 5,
   "metadata": {},
   "outputs": [
    {
     "ename": "ModuleNotFoundError",
     "evalue": "No module named 'scripts.data_utils'",
     "output_type": "error",
     "traceback": [
      "\u001b[1;31m---------------------------------------------------------------------------\u001b[0m",
      "\u001b[1;31mModuleNotFoundError\u001b[0m                       Traceback (most recent call last)",
      "Cell \u001b[1;32mIn[5], line 5\u001b[0m\n\u001b[0;32m      2\u001b[0m \u001b[38;5;28;01mfrom\u001b[39;00m\u001b[38;5;250m \u001b[39m\u001b[38;5;21;01mpathlib\u001b[39;00m\u001b[38;5;250m \u001b[39m\u001b[38;5;28;01mimport\u001b[39;00m Path\n\u001b[0;32m      3\u001b[0m sys\u001b[38;5;241m.\u001b[39mpath\u001b[38;5;241m.\u001b[39mappend(\u001b[38;5;124m\"\u001b[39m\u001b[38;5;124m..\u001b[39m\u001b[38;5;124m\"\u001b[39m)\n\u001b[1;32m----> 5\u001b[0m \u001b[38;5;28;01mfrom\u001b[39;00m\u001b[38;5;250m \u001b[39m\u001b[38;5;21;01mscripts\u001b[39;00m\u001b[38;5;21;01m.\u001b[39;00m\u001b[38;5;21;01mdata_utils\u001b[39;00m\u001b[38;5;21;01m.\u001b[39;00m\u001b[38;5;21;01meda\u001b[39;00m\u001b[38;5;250m \u001b[39m\u001b[38;5;28;01mimport\u001b[39;00m FinanceEDA\n\u001b[0;32m      6\u001b[0m \u001b[38;5;66;03m# from scripts.data_utils.utils import *\u001b[39;00m\n\u001b[0;32m      7\u001b[0m \u001b[38;5;28;01mfrom\u001b[39;00m\u001b[38;5;250m \u001b[39m\u001b[38;5;21;01mscripts\u001b[39;00m\u001b[38;5;21;01m.\u001b[39;00m\u001b[38;5;21;01mdata_utils\u001b[39;00m\u001b[38;5;21;01m.\u001b[39;00m\u001b[38;5;21;01mloader\u001b[39;00m\u001b[38;5;250m \u001b[39m\u001b[38;5;28;01mimport\u001b[39;00m FinanceDataLoader\n",
      "\u001b[1;31mModuleNotFoundError\u001b[0m: No module named 'scripts.data_utils'"
     ]
    }
   ],
   "source": [
    "import sys\n",
    "from pathlib import Path\n",
    "sys.path.append(\"..\")\n",
    "\n",
    "from scripts.data_utils.eda import FinanceEDA\n",
    "# from scripts.data_utils.utils import *\n",
    "from scripts.data_utils.loader import FinanceDataLoader\n",
    "from scripts.data_utils.cleaner import FinanceDataCleaner\n",
    "\n",
    "from scripts.modeling.utils import *\n",
    "from scripts.modeling.arima_model import *\n",
    "from scripts.modeling.lstm_model import *\n",
    "from scripts.modeling.sarima_model import *\n"
   ]
  },
  {
   "cell_type": "code",
   "execution_count": null,
   "metadata": {},
   "outputs": [],
   "source": [
    "# -------------------- Data Loading and Preprocessing --------------------\n",
    "df = pd.read_csv(\"TSLA.csv\", parse_dates=[\"Date\"], index_col=\"Date\")\n",
    "df"
   ]
  },
  {
   "cell_type": "code",
   "execution_count": null,
   "metadata": {},
   "outputs": [],
   "source": [
    "# Initialize preprocessor and work with 'Close' prices.\n",
    "preprocessor = TimeSeriesPreprocessor(df, target_col=\"Close\")"
   ]
  },
  {
   "cell_type": "code",
   "execution_count": null,
   "metadata": {},
   "outputs": [],
   "source": [
    "# Test stationarity and make stationary if needed.\n",
    "preprocessor.test_stationarity()\n",
    "df_stationary = preprocessor.make_stationary()"
   ]
  },
  {
   "cell_type": "code",
   "execution_count": null,
   "metadata": {},
   "outputs": [],
   "source": [
    "# Scale data for modeling (using MinMaxScaler)\n",
    "df_scaled, scaler = preprocessor.scale_data()"
   ]
  },
  {
   "cell_type": "code",
   "execution_count": null,
   "metadata": {},
   "outputs": [],
   "source": [
    "# Split the data into training and testing sets.\n",
    "train, test = preprocessor.split_data(train_size=0.8)"
   ]
  },
  {
   "cell_type": "code",
   "execution_count": null,
   "metadata": {},
   "outputs": [],
   "source": [
    "# -------------------- ARIMA Model Training --------------------\n",
    "arima_model_instance = ARIMAModel(train[\"Close\"], test[\"Close\"], order=(5,1,0))\n",
    "arima_model_instance.train_model()"
   ]
  },
  {
   "cell_type": "code",
   "execution_count": null,
   "metadata": {},
   "outputs": [],
   "source": [
    "# Forecast evaluation on test set (for evaluation purpose)\n",
    "arima_model_instance.evaluate()\n"
   ]
  },
  {
   "cell_type": "code",
   "execution_count": null,
   "metadata": {},
   "outputs": [],
   "source": [
    "# -------------------- Future Forecasting --------------------\n",
    "# Define last training date from the training set index.\n",
    "last_train_date = train.index[-1]"
   ]
  },
  {
   "cell_type": "code",
   "execution_count": null,
   "metadata": {},
   "outputs": [],
   "source": [
    "# Initialize the MarketTrendForecaster with the trained ARIMA model.\n",
    "trend_forecaster = MarketTrendForecaster(model=arima_model_instance, \n",
    "                                        model_name=\"ARIMA\", \n",
    "                                        last_train_date=last_train_date, \n",
    "                                        scaler=scaler)\n"
   ]
  },
  {
   "cell_type": "code",
   "execution_count": null,
   "metadata": {},
   "outputs": [],
   "source": [
    "# Forecast future values for the next 6 months (approx. 126 business days)\n",
    "forecast_steps = 126\n",
    "forecast_values, conf_intervals = trend_forecaster.forecast_future(forecast_steps=forecast_steps)"
   ]
  },
  {
   "cell_type": "code",
   "execution_count": null,
   "metadata": {},
   "outputs": [],
   "source": [
    "# For plotting, get historical actual prices in original scale.\n",
    "historical_actual = scaler.inverse_transform(train[\"Close\"].values.reshape(-1, 1))\n",
    "historical_series = pd.Series(historical_actual.flatten(), index=train.index)"
   ]
  },
  {
   "cell_type": "code",
   "execution_count": null,
   "metadata": {},
   "outputs": [],
   "source": [
    "# Plot the forecast along with historical data and confidence intervals.\n",
    "trend_forecaster.plot_forecast(historical_data=historical_series, \n",
    "                                forecast=forecast_values, \n",
    "                                conf_int=conf_intervals,\n",
    "                                title=\"TSLA Future Trend Forecast (6 Months)\")"
   ]
  }
 ],
 "metadata": {
  "kernelspec": {
   "display_name": "env",
   "language": "python",
   "name": "python3"
  },
  "language_info": {
   "codemirror_mode": {
    "name": "ipython",
    "version": 3
   },
   "file_extension": ".py",
   "mimetype": "text/x-python",
   "name": "python",
   "nbconvert_exporter": "python",
   "pygments_lexer": "ipython3",
   "version": "3.12.1"
  }
 },
 "nbformat": 4,
 "nbformat_minor": 2
}
